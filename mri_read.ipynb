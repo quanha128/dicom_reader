{
 "cells": [
  {
   "cell_type": "markdown",
   "id": "af9220c8-22cd-4d15-9733-ed62451ab122",
   "metadata": {},
   "source": [
    "#### Import lib"
   ]
  },
  {
   "cell_type": "code",
   "execution_count": 9,
   "id": "10d7fc97-2799-4d31-9857-d32ff5918e49",
   "metadata": {},
   "outputs": [],
   "source": [
    "import matplotlib.pyplot as plt\n",
    "import pydicom\n",
    "import glob\n",
    "from PIL import Image"
   ]
  },
  {
   "cell_type": "markdown",
   "id": "b86ca5fe-eab0-4c78-8252-6967e8e8c1a9",
   "metadata": {},
   "source": [
    "#### Read pixel data & export img"
   ]
  },
  {
   "cell_type": "code",
   "execution_count": 4,
   "id": "4e7edc92-7fd1-47cb-8570-9cc492f168b4",
   "metadata": {},
   "outputs": [
    {
     "data": {
      "image/png": "[encoded data removed]",
      "text/plain": [
       "<Figure size 432x288 with 1 Axes>"
      ]
     },
     "metadata": {
      "needs_background": "light"
     },
     "output_type": "display_data"
    }
   ],
   "source": [
    "pixel_data = []\n",
    "paths = glob.glob(\"./dicoms/*.dcm\")\n",
    "# fig, ax = plt.subplots(384 ,1, figsize=(800,800))\n",
    "i=0\n",
    "for path in paths:\n",
    "    dataset = pydicom.dcmread(path)\n",
    "    plt.imshow(dataset.pixel_array, cmap=plt.cm.bone)\n",
    "    plt.savefig(\"./img_seq/{}.png\".format(i))\n",
    "    pixel_data.append(dataset.pixel_array)\n",
    "    # img = dataset.pixel_array\n",
    "    i+=1"
   ]
  },
  {
   "cell_type": "markdown",
   "id": "7e85ff4f-f2f8-4e23-8e8a-d2972ae7636c",
   "metadata": {},
   "source": [
    "#### Put img sequences in gif"
   ]
  },
  {
   "cell_type": "code",
   "execution_count": 5,
   "id": "77d5dea1-b7c3-45e8-967a-15117bff57a9",
   "metadata": {},
   "outputs": [],
   "source": [
    "images = []\n",
    "\n",
    "for n in range(len(paths)):\n",
    "    frame = Image.open(\"./img_seq/{}.png\".format(n))\n",
    "    images.append(frame)\n",
    "\n",
    "# Save the frames as an animated GIF\n",
    "images[0].save('brainmri.gif',\n",
    "               save_all=True,\n",
    "               append_images=images[1:],\n",
    "               duration=50,\n",
    "               loop=0)"
   ]
  }
 ],
 "metadata": {
  "kernelspec": {
   "display_name": "Python 3 (ipykernel)",
   "language": "python",
   "name": "python3"
  },
  "language_info": {
   "codemirror_mode": {
    "name": "ipython",
    "version": 3
   },
   "file_extension": ".py",
   "mimetype": "text/x-python",
   "name": "python",
   "nbconvert_exporter": "python",
   "pygments_lexer": "ipython3",
   "version": "3.10.2"
  }
 },
 "nbformat": 4,
 "nbformat_minor": 5
}
